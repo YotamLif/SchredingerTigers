{
 "cells": [
  {
   "cell_type": "code",
   "execution_count": 127,
   "metadata": {
    "collapsed": true
   },
   "outputs": [],
   "source": [
    "import qiskit\n",
    "from qiskit import BasicAer\n",
    "from qiskit.providers.aer.noise import NoiseModel\n",
    "from qiskit.providers.aer.noise.errors import pauli_error\n",
    "%matplotlib inline"
   ]
  },
  {
   "cell_type": "code",
   "execution_count": 128,
   "metadata": {
    "collapsed": true
   },
   "outputs": [],
   "source": [
    "n = 2\n",
    "qr = qiskit.QuantumRegister(n, 'q')\n",
    "cr = ClassicalRegister(n, 'c')\n",
    "circ = qiskit.QuantumCircuit(qr, cr)"
   ]
  },
  {
   "cell_type": "code",
   "execution_count": null,
   "metadata": {
    "collapsed": true
   },
   "outputs": [],
   "source": [
    "# # List of gate times for ibmq_14_melbourne device\n",
    "# # Note that the None parameter for u1, u2, u3 is because gate\n",
    "# # times are the same for all qubits\n",
    "# gate_times = [\n",
    "#     ('u1', None, 0), ('u2', None, 100), ('u3', None, 200),\n",
    "#     ('cx', [1, 0], 678), ('cx', [1, 2], 547), ('cx', [2, 3], 721),\n",
    "#     ('cx', [4, 3], 733), ('cx', [4, 10], 721), ('cx', [5, 4], 800),\n",
    "#     ('cx', [5, 6], 800), ('cx', [5, 9], 895), ('cx', [6, 8], 895),\n",
    "#     ('cx', [7, 8], 640), ('cx', [9, 8], 895), ('cx', [9, 10], 800),\n",
    "#     ('cx', [11, 10], 721), ('cx', [11, 3], 634), ('cx', [12, 2], 773),\n",
    "#     ('cx', [13, 1], 2286), ('cx', [13, 12], 1504), ('cx', [], 800)\n",
    "# ]\n",
    "\n",
    "# # Construct the noise model from backend properties\n",
    "# # and custom gate times\n",
    "# noise_model = noise.device.basic_device_noise_model(properties, gate_times=gate_times)\n",
    "# print(noise_model)"
   ]
  },
  {
   "cell_type": "code",
   "execution_count": 122,
   "metadata": {},
   "outputs": [],
   "source": [
    "circ.h(qr[0])\n",
    "for i in range(1,n):\n",
    "    circ.cx(qr[0], qr[i])"
   ]
  },
  {
   "cell_type": "code",
   "execution_count": 123,
   "metadata": {},
   "outputs": [
    {
     "data": {
      "text/html": [
       "<pre style=\"word-wrap: normal;white-space: pre;line-height: 15px;\">        ┌───┐     \n",
       "q_0: |0>┤ H ├──■──\n",
       "        └───┘┌─┴─┐\n",
       "q_1: |0>─────┤ X ├\n",
       "             └───┘\n",
       " c_0: 0 ══════════\n",
       "                  \n",
       " c_1: 0 ══════════\n",
       "                  </pre>"
      ],
      "text/plain": [
       "<qiskit.visualization.text.TextDrawing at 0x228649a97f0>"
      ]
     },
     "execution_count": 123,
     "metadata": {},
     "output_type": "execute_result"
    }
   ],
   "source": [
    "circ.draw()"
   ]
  },
  {
   "cell_type": "code",
   "execution_count": 124,
   "metadata": {
    "scrolled": true
   },
   "outputs": [
    {
     "name": "stdout",
     "output_type": "stream",
     "text": [
      "[0.707+0.j 0.   +0.j 0.   +0.j 0.707+0.j]\n"
     ]
    }
   ],
   "source": [
    "backend = qiskit.Aer.get_backend('statevector_simulator')\n",
    "job = qiskit.execute(circ, backend)\n",
    "result = job.result()\n",
    "outputstate = result.get_statevector(circ, decimals=3)\n",
    "print(outputstate)"
   ]
  },
  {
   "cell_type": "code",
   "execution_count": 125,
   "metadata": {},
   "outputs": [
    {
     "data": {
      "text/html": [
       "<pre style=\"word-wrap: normal;white-space: pre;line-height: 15px;\">        ┌───┐     ┌─┐   \n",
       "q_0: |0>┤ H ├──■──┤M├───\n",
       "        └───┘┌─┴─┐└╥┘┌─┐\n",
       "q_1: |0>─────┤ X ├─╫─┤M├\n",
       "             └───┘ ║ └╥┘\n",
       " c_0: 0 ═══════════╩══╬═\n",
       "                      ║ \n",
       " c_1: 0 ══════════════╩═\n",
       "                        </pre>"
      ],
      "text/plain": [
       "<qiskit.visualization.text.TextDrawing at 0x228648697f0>"
      ]
     },
     "execution_count": 125,
     "metadata": {},
     "output_type": "execute_result"
    }
   ],
   "source": [
    "circ.measure(qr,cr)\n",
    "circ.draw()"
   ]
  },
  {
   "cell_type": "code",
   "execution_count": 126,
   "metadata": {},
   "outputs": [
    {
     "name": "stdout",
     "output_type": "stream",
     "text": [
      "{'11': 528, '00': 496}\n"
     ]
    }
   ],
   "source": [
    "backend = qiskit.Aer.get_backend('qasm_simulator')\n",
    "job = qiskit.execute(circ, backend)\n",
    "result = job.result()\n",
    "counts = result.get_counts(circ)\n",
    "print(counts)"
   ]
  },
  {
   "cell_type": "code",
   "execution_count": null,
   "metadata": {
    "collapsed": true
   },
   "outputs": [],
   "source": []
  }
 ],
 "metadata": {
  "kernelspec": {
   "display_name": "Python 3",
   "language": "python",
   "name": "python3"
  },
  "language_info": {
   "codemirror_mode": {
    "name": "ipython",
    "version": 3
   },
   "file_extension": ".py",
   "mimetype": "text/x-python",
   "name": "python",
   "nbconvert_exporter": "python",
   "pygments_lexer": "ipython3",
   "version": "3.6.3"
  }
 },
 "nbformat": 4,
 "nbformat_minor": 2
}
